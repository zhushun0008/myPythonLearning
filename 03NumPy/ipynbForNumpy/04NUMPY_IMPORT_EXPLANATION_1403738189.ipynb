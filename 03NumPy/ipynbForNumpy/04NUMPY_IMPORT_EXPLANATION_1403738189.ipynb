{
 "metadata": {
  "name": "04numpy_import_explanation_1403738189.ipynb"
 },
 "nbformat": 3,
 "nbformat_minor": 0,
 "worksheets": [
  {
   "cells": [
    {
     "cell_type": "heading",
     "level": 1,
     "metadata": {},
     "source": [
      "NumPy Import Explanation"
     ]
    },
    {
     "cell_type": "markdown",
     "metadata": {},
     "source": [
      "By default in IPython notebooks and at the ipython prompt in Canopy, NumPy and Plotting functions are available without imports.  It is as if you typed::\n",
      "        \n",
      "        from numpy import *\n",
      "        from matplotlib.pyplot import *\n",
      "        \n",
      "at the command prompt or within a script.        "
     ]
    },
    {
     "cell_type": "code",
     "collapsed": false,
     "input": [
      "a = array([1,2,3])\n",
      "a"
     ],
     "language": "python",
     "metadata": {},
     "outputs": [
      {
       "output_type": "pyout",
       "prompt_number": 2,
       "text": [
        "array([1, 2, 3])"
       ]
      }
     ],
     "prompt_number": 2
    },
    {
     "cell_type": "code",
     "collapsed": false,
     "input": [
      "b = sin(a)\n",
      "b"
     ],
     "language": "python",
     "metadata": {},
     "outputs": [
      {
       "output_type": "pyout",
       "prompt_number": 4,
       "text": [
        "array([ 0.84147098,  0.90929743,  0.14112001])"
       ]
      }
     ],
     "prompt_number": 4
    },
    {
     "cell_type": "code",
     "collapsed": false,
     "input": [
      "plot(a,b)"
     ],
     "language": "python",
     "metadata": {},
     "outputs": [
      {
       "output_type": "pyout",
       "prompt_number": 5,
       "text": [
        "[<matplotlib.lines.Line2D at 0x10d97c150>]"
       ]
      },
      {
       "output_type": "display_data",
       "png": "[encoded data removed]",
       "text": [
        "<matplotlib.figure.Figure at 0x10d94afd0>"
       ]
      }
     ],
     "prompt_number": 5
    },
    {
     "cell_type": "markdown",
     "metadata": {},
     "source": [
      "When writing a script, however, you'll need to make sure that you explicitly import these functions because they will not be automatically available.\n",
      "\n",
      "    # some_script.py\n",
      "    from numpy import array, sin\n",
      "    from matplotlib.pyplot import plot\n",
      "    # or\n",
      "    # from pylab import plot\n",
      "    a = array([1,2,3])\n",
      "    b = sin(a)\n",
      "    plot(a,b)\n",
      "    \n",
      "You could also just import everything from the numpy, pyplot namespaces, but that is really frowned upon in scripts and modules.  It leads headaches later because the code is harder to read and debug. [Trust me on this.]\n",
      "\n",
      "    # some_script.py\n",
      "    from numpy import *\n",
      "    from matplotlib.pyplot import *\n",
      "    # or\n",
      "    # from pylab import plot\n",
      "    a = array([1,2,3])\n",
      "    b = sin(a)\n",
      "    plot(a,b)\n",
      "    \n",
      "Another common convention is to rename the numpy and pyplot (pylab) modules on import to make them shorter to type, but also to keep all the various functions in separate \"namespaces.\"  This explicit yet compact approach has its appeal.\n",
      "\n",
      "    # some_script.py\n",
      "    import numpy as np\n",
      "    import matplotlib.pyplot as plt\n",
      "    a = np.array([1,2,3])\n",
      "    b = np.sin(a)\n",
      "    plt.plot(a,b)"
     ]
    },
    {
     "cell_type": "code",
     "collapsed": false,
     "input": [],
     "language": "python",
     "metadata": {},
     "outputs": []
    }
   ],
   "metadata": {}
  }
 ]
}