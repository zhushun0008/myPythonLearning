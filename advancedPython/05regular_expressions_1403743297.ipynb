{
 "metadata": {
  "name": ""
 },
 "nbformat": 3,
 "nbformat_minor": 0,
 "worksheets": [
  {
   "cells": [
    {
     "cell_type": "markdown",
     "metadata": {},
     "source": [
      "Regular Expressions\n",
      "===================\n",
      "\n",
      "Regular expressions can be used to do moderately complex string matching and searching.  Regular expressions in Python are available via the `re` module, which wraps a fast regular expression engine written in C."
     ]
    },
    {
     "cell_type": "code",
     "collapsed": false,
     "input": [
      "import re"
     ],
     "language": "python",
     "metadata": {},
     "outputs": [],
     "prompt_number": 1
    },
    {
     "cell_type": "markdown",
     "metadata": {},
     "source": [
      "Typically you want to either use the `match()` or `search()` functions.  Match looks for patterns which occur at the start of a string, while search will find patterns anywhere in a string."
     ]
    },
    {
     "cell_type": "code",
     "collapsed": false,
     "input": [
      "string = \"hello world\"\n",
      "print re.match(\"hello (\\w+)\", string)"
     ],
     "language": "python",
     "metadata": {},
     "outputs": [
      {
       "output_type": "stream",
       "stream": "stdout",
       "text": [
        "<_sre.SRE_Match object at 0x109603300>\n"
       ]
      }
     ],
     "prompt_number": 2
    },
    {
     "cell_type": "markdown",
     "metadata": {},
     "source": [
      "If a pattern is found, you get a `match` object back which contains information about what was matched.  In paticular the `groups()` method is very useful."
     ]
    },
    {
     "cell_type": "code",
     "collapsed": false,
     "input": [
      "match = re.match(\"hello (\\w+)\", string)\n",
      "if match is not None:\n",
      "    print match.group(1)"
     ],
     "language": "python",
     "metadata": {},
     "outputs": [
      {
       "output_type": "stream",
       "stream": "stdout",
       "text": [
        "world\n"
       ]
      }
     ],
     "prompt_number": 3
    },
    {
     "cell_type": "code",
     "collapsed": false,
     "input": [
      "string = \"hello there\"\n",
      "match = re.match(\"hello (\\w+)\", string)\n",
      "if match is not None:\n",
      "    print match.group(1)"
     ],
     "language": "python",
     "metadata": {},
     "outputs": [
      {
       "output_type": "stream",
       "stream": "stdout",
       "text": [
        "there\n"
       ]
      }
     ],
     "prompt_number": 4
    },
    {
     "cell_type": "markdown",
     "metadata": {},
     "source": [
      "Group 0 is the entire match, and groups are numbered after that by the order of the open parentheses (including nested parentheses).\n",
      "\n",
      "If you are re-using patterns over and over again, it can make sense to compile them before doing your matching.  The `re` module is reasonably smart about caching compiled expressions, so this may only matter if you are doing a lot of string matching."
     ]
    },
    {
     "cell_type": "code",
     "collapsed": false,
     "input": [
      "pattern1 = re.compile('hello (\\w+)')\n",
      "match = pattern1.match(string)\n",
      "if match is not None:\n",
      "    print match.group(1)\n",
      "\n",
      "pattern1.match(\"hello world\")"
     ],
     "language": "python",
     "metadata": {},
     "outputs": [
      {
       "output_type": "stream",
       "stream": "stdout",
       "text": [
        "there\n"
       ]
      },
      {
       "metadata": {},
       "output_type": "pyout",
       "prompt_number": 6,
       "text": [
        "<_sre.SRE_Match at 0x109603300>"
       ]
      }
     ],
     "prompt_number": 6
    },
    {
     "cell_type": "markdown",
     "metadata": {},
     "source": [
      "One thing to be aware of is that regular expressions use `\\` to escape special characters a lot.  This can be problematic at times.\n",
      "\n",
      "For example, let's say we wanted to split parts of a Windows path, which are separated by backslashes (note that there are better ways of doing this using `os.path`!).  In this case, we want to match a single `\\`, but because `\\` is a special character for regular expressions, we need to escape it, so the actual expression is:\n",
      "\n",
      "  \\\\\\\\\n",
      "\n",
      "Where things get nasty, is that is we just typed this as a Python string, we get:"
     ]
    },
    {
     "cell_type": "code",
     "collapsed": false,
     "input": [
      "pattern = \"\\\\\"\n",
      "print pattern"
     ],
     "language": "python",
     "metadata": {},
     "outputs": [
      {
       "output_type": "stream",
       "stream": "stdout",
       "text": [
        "\\\n"
       ]
      }
     ],
     "prompt_number": 7
    },
    {
     "cell_type": "markdown",
     "metadata": {},
     "source": [
      "The problem is that Python strings also use `\\` for escaping, so if you want to match a single `\\`, then you need to use four (!) backslashes."
     ]
    },
    {
     "cell_type": "code",
     "collapsed": false,
     "input": [
      "pattern = \"\\\\\\\\\"\n",
      "path = \"C:\\\\foo\\\\bar\\\\baz.txt\"\n",
      "print re.split(pattern, path)"
     ],
     "language": "python",
     "metadata": {},
     "outputs": [
      {
       "output_type": "stream",
       "stream": "stdout",
       "text": [
        "['C:', 'foo', 'bar', 'baz.txt']\n"
       ]
      }
     ],
     "prompt_number": 8
    },
    {
     "cell_type": "markdown",
     "metadata": {},
     "source": [
      "Because this sort of thing can be annoying, Python provides \"raw\" strings that ignore Python's usual escaping, which simplifies writing regular expressions:"
     ]
    },
    {
     "cell_type": "code",
     "collapsed": false,
     "input": [
      "pattern = r\"\\\\\"\n",
      "path = r\"C:\\foo\\bar\\baz.txt\"\n",
      "print re.split(pattern, path)"
     ],
     "language": "python",
     "metadata": {},
     "outputs": [
      {
       "output_type": "stream",
       "stream": "stdout",
       "text": [
        "['C:', 'foo', 'bar', 'baz.txt']\n"
       ]
      }
     ],
     "prompt_number": 9
    },
    {
     "cell_type": "markdown",
     "metadata": {},
     "source": [
      "You should also be aware that there are (mathematically proven) limits on the sort of pattern matching that you can do with regular expressions alone.  If the patterns are sufficiently complex, then you should either use a parser which is already written and available in the standard library (such as for comma-separated values, XML, or Python code itself) or write your own custom parser using tools such as PLY or PyParsing."
     ]
    },
    {
     "cell_type": "markdown",
     "metadata": {},
     "source": [
      "Numpy's `fromregex()`\n",
      "=====================\n",
      "\n",
      "Numpy provides a `fromregex()` function that allows you to use regular expressions to extract values from text into a structured numpy array.\n",
      "\n",
      "If we have a file with values:\n",
      "\n",
      "    1312 foo\n",
      "    1534    bar\n",
      "    444  qux\n"
     ]
    },
    {
     "cell_type": "code",
     "collapsed": false,
     "input": [
      "with open('test.dat', 'w') as f:\n",
      "    f.write(\"\"\"1312 foo\n",
      "1534    bar\n",
      "444  qux\"\"\")"
     ],
     "language": "python",
     "metadata": {},
     "outputs": [],
     "prompt_number": 10
    },
    {
     "cell_type": "markdown",
     "metadata": {},
     "source": [
      "We can create a regular expression which matches digits followed by some amount of whitespace, followed by any three characters:"
     ]
    },
    {
     "cell_type": "code",
     "collapsed": false,
     "input": [
      "pattern = \"(\\d+)\\s+(...)\""
     ],
     "language": "python",
     "metadata": {},
     "outputs": [],
     "prompt_number": 11
    },
    {
     "cell_type": "markdown",
     "metadata": {},
     "source": [
      "The dtype of the array should then correspond to the groups of the pattern:"
     ]
    },
    {
     "cell_type": "code",
     "collapsed": false,
     "input": [
      "dt = [('num', 'int64'), ('key', 'S3')]"
     ],
     "language": "python",
     "metadata": {},
     "outputs": [],
     "prompt_number": 12
    },
    {
     "cell_type": "markdown",
     "metadata": {},
     "source": [
      "And then we can read in from the file using `fromregex`:"
     ]
    },
    {
     "cell_type": "code",
     "collapsed": false,
     "input": [
      "from numpy import fromregex\n",
      "output = fromregex('test.dat', pattern, dt)\n",
      "print output"
     ],
     "language": "python",
     "metadata": {},
     "outputs": [
      {
       "output_type": "stream",
       "stream": "stdout",
       "text": [
        "[(1312, 'foo') (1534, 'bar') (444, 'qux')]\n"
       ]
      }
     ],
     "prompt_number": 13
    },
    {
     "cell_type": "code",
     "collapsed": false,
     "input": [
      "print output['num']"
     ],
     "language": "python",
     "metadata": {},
     "outputs": [
      {
       "output_type": "stream",
       "stream": "stdout",
       "text": [
        "[1312 1534  444]\n"
       ]
      }
     ],
     "prompt_number": 14
    },
    {
     "cell_type": "code",
     "collapsed": false,
     "input": [],
     "language": "python",
     "metadata": {},
     "outputs": []
    }
   ],
   "metadata": {}
  }
 ]
}