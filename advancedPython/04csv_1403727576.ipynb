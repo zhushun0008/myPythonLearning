{
 "metadata": {
  "name": "04csv_1403727576.ipynb"
 },
 "nbformat": 3,
 "nbformat_minor": 0,
 "worksheets": [
  {
   "cells": [
    {
     "cell_type": "markdown",
     "metadata": {},
     "source": [
      "Comma Separated Values\n",
      "======================\n",
      "\n",
      "The Python Standard Libarary can read and write CSV (and similar) formatted files using the `csv` module.\n"
     ]
    },
    {
     "cell_type": "code",
     "collapsed": false,
     "input": [
      "import csv"
     ],
     "language": "python",
     "metadata": {},
     "outputs": [],
     "prompt_number": 1
    },
    {
     "cell_type": "markdown",
     "metadata": {},
     "source": [
      "For example, to read a file `data.csv` containing the following:\n",
      "\n",
      "    \"alpha 1\",  100, -1.443\n",
      "    \"beta  3\",   12, -0.0934\n",
      "    \"gamma 3a\", 192, -0.6621\n",
      "    \"delta 2a\",  15, -4.515"
     ]
    },
    {
     "cell_type": "code",
     "collapsed": false,
     "input": [
      "data = '''\"alpha 1\",  100, -1.443\n",
      "\"beta  3\",   12, -0.0934\n",
      "\"gamma 3a\", 192, -0.6621\n",
      "\"delta 2a\",  15, -4.515\n",
      "'''\n",
      "with open(\"data.csv\", \"wb\") as f:\n",
      "    f.write(data)"
     ],
     "language": "python",
     "metadata": {},
     "outputs": [],
     "prompt_number": 2
    },
    {
     "cell_type": "markdown",
     "metadata": {},
     "source": [
      "you first create a `reader` on the file:"
     ]
    },
    {
     "cell_type": "code",
     "collapsed": false,
     "input": [
      "r = csv.reader(open(\"data.csv\"))"
     ],
     "language": "python",
     "metadata": {},
     "outputs": [
      {
       "ename": "NameError",
       "evalue": "name 'csv' is not defined",
       "output_type": "pyerr",
       "traceback": [
        "\u001b[1;31m---------------------------------------------------------------------------\u001b[0m\n\u001b[1;31mNameError\u001b[0m                                 Traceback (most recent call last)",
        "\u001b[1;32m<ipython-input-1-803a3ca332fd>\u001b[0m in \u001b[0;36m<module>\u001b[1;34m()\u001b[0m\n\u001b[1;32m----> 1\u001b[1;33m \u001b[0mr\u001b[0m \u001b[1;33m=\u001b[0m \u001b[0mcsv\u001b[0m\u001b[1;33m.\u001b[0m\u001b[0mreader\u001b[0m\u001b[1;33m(\u001b[0m\u001b[0mopen\u001b[0m\u001b[1;33m(\u001b[0m\u001b[1;34m\"data.csv\"\u001b[0m\u001b[1;33m)\u001b[0m\u001b[1;33m)\u001b[0m\u001b[1;33m\u001b[0m\u001b[0m\n\u001b[0m",
        "\u001b[1;31mNameError\u001b[0m: name 'csv' is not defined"
       ]
      }
     ],
     "prompt_number": 1
    },
    {
     "cell_type": "markdown",
     "metadata": {},
     "source": [
      "and then you can iterate over the rows of the file using `r`:"
     ]
    },
    {
     "cell_type": "code",
     "collapsed": false,
     "input": [
      "for row in r:\n",
      "    print row"
     ],
     "language": "python",
     "metadata": {},
     "outputs": [
      {
       "output_type": "stream",
       "stream": "stdout",
       "text": [
        "['alpha 1', '  100', ' -1.443']\n",
        "['beta  3', '   12', ' -0.0934']\n",
        "['gamma 3a', ' 192', ' -0.6621']\n",
        "['delta 2a', '  15', ' -4.515']\n"
       ]
      }
     ],
     "prompt_number": 4
    },
    {
     "cell_type": "markdown",
     "metadata": {},
     "source": [
      "Notice that the values read in are provided as strings, so you need to do any appropriate type conversion yourself:"
     ]
    },
    {
     "cell_type": "code",
     "collapsed": false,
     "input": [
      "with open(\"data.csv\") as fp:\n",
      "    data = []\n",
      "    for row in csv.reader(fp):\n",
      "        data.append([row[0], int(row[1]), float(row[2])])\n",
      "\n",
      "data"
     ],
     "language": "python",
     "metadata": {},
     "outputs": [
      {
       "metadata": {},
       "output_type": "pyout",
       "prompt_number": 5,
       "text": [
        "[['alpha 1', 100, -1.443],\n",
        " ['beta  3', 12, -0.0934],\n",
        " ['gamma 3a', 192, -0.6621],\n",
        " ['delta 2a', 15, -4.515]]"
       ]
      }
     ],
     "prompt_number": 5
    },
    {
     "cell_type": "markdown",
     "metadata": {},
     "source": [
      "Writing to a csv file is similarly straightforward with a `csv.writer`:"
     ]
    },
    {
     "cell_type": "code",
     "collapsed": false,
     "input": [
      "data = [(\"One\", 1, 1.5), (\"Two\", 2, 8.0)]\n",
      "with open(\"out.csv\", \"wb\") as fp:\n",
      "    w = csv.writer(fp)\n",
      "    w.writerows(data)"
     ],
     "language": "python",
     "metadata": {},
     "outputs": [],
     "prompt_number": 6
    },
    {
     "cell_type": "code",
     "collapsed": false,
     "input": [
      "!cat \"out.csv\""
     ],
     "language": "python",
     "metadata": {},
     "outputs": [
      {
       "output_type": "stream",
       "stream": "stdout",
       "text": [
        "One,1,1.5\r",
        "\r\n",
        "Two,2,8.0\r",
        "\r\n"
       ]
      }
     ],
     "prompt_number": 7
    },
    {
     "cell_type": "markdown",
     "metadata": {},
     "source": [
      "Notice that we open the file with the write binary flag `\"wb\"` which ensures that end-of-lines are handled correctly in a cross-platform manner by the `csv` module.\n",
      "\n",
      "By default, the readers and writers produce CSV files which are compatible with those produced and consumed by Excel.  This includes how parts of the file can be quoted and escaped.  So for example, if we wanted to write data which contains quotes and commas, the `csv` module handles it correctly:"
     ]
    },
    {
     "cell_type": "code",
     "collapsed": false,
     "input": [
      "data = [(\"One, \\\"real\\\" string\", 1, 1.5), (\"Two\", 2, 8.0)]\n",
      "with open(\"out.csv\", \"wb\") as fp:\n",
      "    w = csv.writer(fp)\n",
      "    w.writerows(data)"
     ],
     "language": "python",
     "metadata": {},
     "outputs": [],
     "prompt_number": 8
    },
    {
     "cell_type": "code",
     "collapsed": false,
     "input": [
      "!cat out.csv"
     ],
     "language": "python",
     "metadata": {},
     "outputs": [
      {
       "output_type": "stream",
       "stream": "stdout",
       "text": [
        "\"One, \"\"real\"\" string\",1,1.5\r",
        "\r\n",
        "Two,2,8.0\r",
        "\r\n"
       ]
      }
     ],
     "prompt_number": 9
    },
    {
     "cell_type": "markdown",
     "metadata": {},
     "source": [
      "You can customize the way these are handled through options that you pass to the `reader` and `writer` objects.\n",
      "\n",
      "For example, if you want to read or write a pipe-separated values file, you can set the `delimiter` argument to `\"|\"`."
     ]
    },
    {
     "cell_type": "code",
     "collapsed": false,
     "input": [
      "with open(\"out.psv\", \"wb\") as fp:\n",
      "    w = csv.writer(fp, delimiter=\"|\")\n",
      "    w.writerows(data)"
     ],
     "language": "python",
     "metadata": {},
     "outputs": [],
     "prompt_number": 10
    },
    {
     "cell_type": "code",
     "collapsed": false,
     "input": [
      "!cat out.psv"
     ],
     "language": "python",
     "metadata": {},
     "outputs": [
      {
       "output_type": "stream",
       "stream": "stdout",
       "text": [
        "\"One, \"\"real\"\" string\"|1|1.5\r",
        "\r\n",
        "Two|2|8.0\r",
        "\r\n"
       ]
      }
     ],
     "prompt_number": 11
    },
    {
     "cell_type": "markdown",
     "metadata": {},
     "source": [
      "Other Options\n",
      "=============\n",
      "\n",
      "It's worth remembering that for CSV files which contain lots of numerical data both `numpy.loadtxt` and `pandas.read_csv` can simplify reading the data in.\n",
      "\n",
      "For example, given \"trades.csv\":\n",
      "\n",
      "    Order,Date,Stock,Quantity,Price\n",
      "    A0001,2013-12-01,AAPL,1000,203.4\n",
      "    A0002,2013-12-01,MSFT,1500,167.5\n",
      "    A0003,2013-12-02,GOOG,1500,167.5"
     ]
    },
    {
     "cell_type": "code",
     "collapsed": false,
     "input": [
      "data = \"\"\"Order,Date,Stock,Quantity,Price\n",
      "A0001,2013-12-01,AAPL,1000,203.4\n",
      "A0002,2013-12-01,MSFT,1500,167.5\n",
      "A0003,2013-12-02,GOOG,1500,167.5\n",
      "\"\"\"\n",
      "with open(\"trades.csv\", \"wb\") as f:\n",
      "    f.write(data)"
     ],
     "language": "python",
     "metadata": {},
     "outputs": [],
     "prompt_number": 12
    },
    {
     "cell_type": "markdown",
     "metadata": {},
     "source": [
      "Pandas makes turning this into a usable data structure very simple."
     ]
    },
    {
     "cell_type": "code",
     "collapsed": false,
     "input": [
      "import pandas\n",
      "df = pandas.read_csv(\"trades.csv\", index_col=0)\n",
      "print df"
     ],
     "language": "python",
     "metadata": {},
     "outputs": [
      {
       "output_type": "stream",
       "stream": "stdout",
       "text": [
        "             Date Stock  Quantity  Price\n",
        "Order                                   \n",
        "A0001  2013-12-01  AAPL      1000  203.4\n",
        "A0002  2013-12-01  MSFT      1500  167.5\n",
        "A0003  2013-12-02  GOOG      1500  167.5\n",
        "\n",
        "[3 rows x 4 columns]\n"
       ]
      }
     ],
     "prompt_number": 13
    },
    {
     "cell_type": "code",
     "collapsed": false,
     "input": [
      "(df[\"Quantity\"]*df[\"Price\"])[\"A0001\"]"
     ],
     "language": "python",
     "metadata": {},
     "outputs": [
      {
       "metadata": {},
       "output_type": "pyout",
       "prompt_number": 14,
       "text": [
        "203400.0"
       ]
      }
     ],
     "prompt_number": 14
    }
   ],
   "metadata": {}
  }
 ]
}